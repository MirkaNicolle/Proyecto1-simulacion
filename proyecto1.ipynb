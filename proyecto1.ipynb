{
 "cells": [
  {
   "cell_type": "markdown",
   "metadata": {},
   "source": [
    "Universidad del valle de Guatemala\n",
    "\n",
    "Lic. Ingenieria en ciencias de la computacion \n",
    "\n",
    "Modelacion y simulacion\n",
    "\n",
    "Luis Suriano\n",
    "\n",
    "Integrantes:\n",
    "- Mirka M\n",
    "- Oscar de leon\n",
    "- Andres Q 18288\n",
    "- Martha Gomez\n",
    "\n"
   ]
  },
  {
   "cell_type": "markdown",
   "metadata": {},
   "source": [
    "# Ejercicio Único\n",
    "\n",
    "Suponga que usted es gerente de un supermercado llamado “Flor de Septiembre”, y le interesa conocer ciertas variables referentes a las esperas dadas en caja de cobro. Para ello, aplica sus conocimientos del curso de Modelación y Simulación recordando lo que aprendió en la simulación de eventos discretos. Usted sabe que el supermercado del cual es gerente cuenta con N cajas, además que usted sabe que la cantidad de clientes que se atienden se pueden modelar con un proceso de Poisson con λ1 > 0 (cantidad promedio de clientes por hora).\n",
    "\n",
    "Al llegar, un cliente se forma en la fila en una caja, la cual suponga que la selecciona al buscar aquella que tenga el menor número de personas en fila y si en caso hay empate en la cantidad menor de personas en más de una caja, la cual en el cliente se forma será seleccionada aleatoriamente. Usted sabe que cada cajero despacha al cliente en un tiempo que tiene una distribución exponencial con parámetro λ2 > 0 clientes por hora.\n",
    "\n",
    "Por favor noten que los parámetros N, λ1, λ2 adrede no son dados en la especificación del proyecto para que cada grupo seleccione y muestre una simulación diferente. Por ello, se espera que cada grupo tenga una combinación diferente de estas variables.\n"
   ]
  },
  {
   "cell_type": "markdown",
   "metadata": {},
   "source": [
    "## Tasks:\n",
    "1. Calcule el tiempo promedio de un cliente en cola (tiempo de espera)\n",
    "2. Calcule el número de cliente en la cola\n",
    "3. Calcule el grado de utilización de cada cajero (Para este punto considere los clientes atendidos por cada cajero dividido el número de clientes\n",
    "total)\n",
    "4. Video presentando su simulación y solución"
   ]
  },
  {
   "cell_type": "markdown",
   "metadata": {},
   "source": [
    "Variables:\n",
    "- El supermercado tiene 8 cajas\n",
    "- Los clientes del supermercado llegan con una tasa de 45 clientes por hora. λ1 = 45 (Este es nuestro lamba para modelar la cola)\n",
    "- La caja puede procesar a los clientes con una tasa de 15 clientes por hora. MU = 15 (por hora)"
   ]
  },
  {
   "cell_type": "code",
   "execution_count": null,
   "metadata": {},
   "outputs": [],
   "source": [
    "cola_capacidad = 15\n",
    "clientes_hora = 45\n",
    "qty_cajas = 8"
   ]
  },
  {
   "cell_type": "markdown",
   "metadata": {},
   "source": [
    "En nuestra simulacion podemos procesar menos clientes que los que llegan, es decir abran muchas cajas con cola debido a la alta demanda"
   ]
  },
  {
   "cell_type": "code",
   "execution_count": null,
   "metadata": {},
   "outputs": [],
   "source": [
    "import math\n",
    "import numpy as np\n",
    "import random"
   ]
  },
  {
   "cell_type": "code",
   "execution_count": null,
   "metadata": {},
   "outputs": [],
   "source": [
    "''' \n",
    "Siguiendo la presentacion de simulando eventos discretos \n",
    "\n",
    "https://uvg.instructure.com/courses/27023/pages/simulando-eventos-discretos-material?module_item_id=591374\n",
    "'''\n",
    "def gen_random():\n",
    "    rand = random.random()\n",
    "    return rand\n",
    "# Funcion para generar tiempos de ocurrencia de eventos\n",
    "# Diapositiva 12\n",
    "def poisson(t, xLambda):\n",
    "    gen = gen_random()\n",
    "    return t - (1/xLambda) * math.log(gen)\n",
    "\n"
   ]
  },
  {
   "cell_type": "markdown",
   "metadata": {},
   "source": [
    "Iniciamos la simulacion "
   ]
  },
  {
   "cell_type": "code",
   "execution_count": null,
   "metadata": {},
   "outputs": [],
   "source": [
    "''' \n",
    "Diapositiva 21, de la presentacion de simulando eventos discretos\n",
    "\n",
    "ta = tiempo de llegada del cliente\n",
    "td = tiempo de salida del cliente\n",
    "\n",
    "por que utilizamos un diccionario en lugar de lista?\n",
    "\n",
    "https://es.acervolima.com/diferencia-entre-lista-y-diccionario-en-python/\n",
    "\n",
    "tiempo_ocupado = una lista donde almacenamos los tiempos de ocupacion\n",
    "\n",
    "y para cada caja en la lista de cajas, tendremos un espacio en nuestra lista con su tiempo de ocupacion\n",
    "'''\n",
    "\n",
    "\n",
    "t = na = nd = n = 0\n",
    "T0 = poisson(t, clientes_hora)\n",
    "ta = T0\n",
    "tiempo_salida = {}\n",
    "td = math.inf # Infinito positivo\n",
    "\n",
    "tiempo_ocupado = []\n",
    "\n",
    "for i in range(qty_cajas):\n",
    "    tiempo_ocupado.append(0)\n",
    "    print(tiempo_ocupado)\n",
    "\n"
   ]
  },
  {
   "cell_type": "code",
   "execution_count": null,
   "metadata": {},
   "outputs": [],
   "source": [
    "'''\n",
    "\n",
    "    En este apartado lo que hacemos es crear dos diccionarios, uno para los clientes que llegan en n caja y otra para los clientes que estan siendo atendidos en n caja\n",
    "    para cada uno de estos dicccionarios, procedemos a llenarlos con 0 por cada caja que tengamos, utilizamos diccionarios para esto ya que nos permite acceder a \n",
    "    los valores especificos de cada caja de mejor manera.\n",
    "\n",
    "    ref: https://www.w3schools.com/python/python_dictionaries.asp\n",
    "    https://es.acervolima.com/diferencia-entre-lista-y-diccionario-en-python/\n",
    "\n",
    "'''\n",
    "\n",
    "clientes_en_N_caja = np.zeros(qty_cajas) #Creamos un array lleno de ceros como el numero de cajas\n",
    "\n",
    "clientes_atendidos_por_caja = np.zeros(qty_cajas) #creamos un array lleno de ceros para la cantidad de clientes servidos por caja"
   ]
  },
  {
   "cell_type": "code",
   "execution_count": null,
   "metadata": {},
   "outputs": [],
   "source": [
    "#Tiempo de completado de servicio\n",
    "tiempo_salida_completado = []\n",
    "\n",
    "for i in range(qty_cajas):\n",
    "    tiempo_salida_completado.append(math.inf) #llenamos el array con infinito por cada caja\n",
    "\n",
    "tiempo_cola = {} #Dicccionario para el tiempo de espera en cola por cliente\n",
    "\n",
    "#tiempo_cola = {0: [], 1: [], 2: [], 3: [], 4: [], 5: [], 6: [], 7: []} para 8 cajas\n",
    "for i in range(qty_cajas):\n",
    "    tiempo_cola[i] = {} #por cada caja creamos un diccionario vacio\n",
    "\n"
   ]
  },
  {
   "cell_type": "code",
   "execution_count": null,
   "metadata": {},
   "outputs": [],
   "source": [
    "salida_cola = {} #Diccionario para el tiempo de salida de la cola por cliente\n",
    "\n",
    "#por cada caja creamos un diccionario vacio de salidas de cola\n",
    "for i in range(qty_cajas):\n",
    "    salida_cola[i] = {} #por cada caja creamos un diccionario vacio de salidas de cola\n"
   ]
  },
  {
   "cell_type": "code",
   "execution_count": null,
   "metadata": {},
   "outputs": [],
   "source": [
    "T = 60 #mins, 1 hora\n",
    "while t <= T or n>0:\n",
    "    '''     \n",
    "        entrada de cliente \n",
    "        CASO 1, diapositiva 22\n",
    "        el siguiente evento es una llegada de una solicitud al sistema, y aún no es la hora de cierre\n",
    "    '''\n",
    "    if ta <= min(tiempo_salida_completado) and ta <= T:\n",
    "\n",
    "        #Siguiendo la presentacion de modelacion de eventos discretos, nos comenzamos a mover en el tiempo como indica la diapositiva 22\n",
    "        t = ta\n",
    "        na = na + 1\n",
    "        n = n + 1\n",
    "        ta = poisson(t, clientes_hora) #Generamos el tiempo de llegada del siguiente cliente\n",
    "\n",
    "        #Se verifica cual caja es la que esta vacia\n",
    "        active = False\n",
    "        for i in range(qty_cajas):\n",
    "            if clientes_en_N_caja[i] == 0:\n",
    "                clientes_en_N_caja[i] = na\n",
    "\n",
    "                #Creamos un tiempo de salida para el cliente\n",
    "                Z = random.expovariate(cola_capacidad) \n",
    "                '''https://www.geeksforgeeks.org/random-expovariate-function-in-python/\n",
    "                \n",
    "                    expovariate() is an inbuilt method of the random module. \n",
    "                    It is used to return a random floating point number with exponential distribution.\n",
    "                \n",
    "                '''\n",
    "            \n",
    "                tiempo_salida_completado[i] = t + Z\n",
    "                tiempo_ocupado[i] = tiempo_ocupado[i] + Z\n",
    "                active = True\n",
    "                break\n",
    "\n",
    "        if active == False:\n",
    "            ''' \n",
    "                Si no hay cajas vacias, se verifica cual caja tiene menos clientes\n",
    "                dependiendo de la cantidad de clientes que tenga la caja, se coloca el nuevo cliente (la que menos tenga)\n",
    "                si todas las cajas estan llenas o tienen la misma cantidad de clientes, se coloca el cliente en la caja de manera random\n",
    "\n",
    "            '''\n",
    "            cola = 0\n",
    "            tamano_cola = len(tiempo_cola[0])\n",
    "            for i in range(qty_cajas):\n",
    "                if len(tiempo_cola[i]) < tamano_cola:\n",
    "                    cola = i\n",
    "                    tamano_cola = len(tiempo_cola[i])\n",
    "                if len(tiempo_cola[i]) == tamano_cola:\n",
    "                    if random.randint(0,1) == 1:\n",
    "                        cola = i\n",
    "                        tamano_cola = len(tiempo_cola[i])\n",
    "                    else:\n",
    "                        continue\n",
    "\n",
    "            #Colocamos el cliente en cola\n",
    "            tiempo_cola[cola][na] = t\n",
    "\n",
    "    #salida de cliente\n",
    "    else:\n",
    "        '''     \n",
    "            salida de cliente\n",
    "            1. Verificacmos el indice con menor valor de la proxima salida de cliente\n",
    "            2. Nos movemos conforme al tipo de evento\n",
    "            3. Realizamos un aumento debido a la salida de un cliente, indicando que hemos atendido a un cliente mas en la caja\n",
    "            4. Almacenamos el tiempo de salida del cliente\n",
    "            5. Verificamos si hay clientes en cola\n",
    "            6. Si hay clientes en cola, se procede a atender al siguiente cliente en cola y generar un tiempo de atencion para el cliente\n",
    "\n",
    "        '''\n",
    "        #1\n",
    "        index = tiempo_salida_completado.index(min(tiempo_salida_completado))\n",
    "\n",
    "        #2\n",
    "        t = tiempo_salida_completado[index]\n",
    "        nd = nd + 1\n",
    "        n = n - 1\n",
    "\n",
    "        #3\n",
    "        clientes_atendidos_por_caja[index] = clientes_atendidos_por_caja[index] + 1\n",
    "\n",
    "        #4\n",
    "        tiempo_salida[nd] = t\n",
    "\n",
    "        #5\n",
    "        if n >= qty_cajas:\n",
    "            m_val = max(clientes_en_N_caja)\n",
    "            clientes_en_N_caja[index] = m_val + 1\n",
    "\n",
    "            #6\n",
    "            Z =  random.expovariate(cola_capacidad)\n",
    "            tiempo_salida_completado[index] = t + Z\n",
    "            tiempo_ocupado[index] = tiempo_ocupado[index] + Z\n",
    "\n",
    "            for i in range(qty_cajas):\n",
    "                if nd in tiempo_cola[i].keys():\n",
    "                    salida_cola[i][nd] = t\n",
    "                    break\n",
    "        else:\n",
    "            for i in range(qty_cajas):\n",
    "                if nd in tiempo_cola[i].keys():\n",
    "                    salida_cola[i][nd] = t\n",
    "                    break\n",
    "            tiempo_salida_completado[index] = math.inf\n",
    "            clientes_en_N_caja[index] = 0"
   ]
  },
  {
   "cell_type": "code",
   "execution_count": null,
   "metadata": {},
   "outputs": [],
   "source": [
    "def tarea1():\n",
    "    for i in range(qty_cajas):\n",
    "\n",
    "        Valor_Final = 0\n",
    "\n",
    "        for j in tiempo_cola[i]:\n",
    "            Valor_Final = Valor_Final + (salida_cola[i][j] - tiempo_cola[i][j])\n",
    "\n",
    "        cola_promedio = 0\n",
    "        if len(tiempo_cola[i]) == 0:\n",
    "            cola_promedio = 0\n",
    "        else:\n",
    "            cola_promedio = Valor_Final / len(tiempo_cola[i])\n",
    "\n",
    "        print('tiempo promedio de un cliente en cola de la caja', i+1, ':',round(cola_promedio * 60,1),'minutos','\\n')\n",
    "\n"
   ]
  },
  {
   "cell_type": "code",
   "execution_count": null,
   "metadata": {},
   "outputs": [],
   "source": [
    "# Tarea 2 Calcule el número de cliente en la cola\n",
    "def tarea2():\n",
    "    for i in range(qty_cajas):\n",
    "        print('número de cliente en la cola', i+1, ':',len(tiempo_cola[i]))\n",
    "\n"
   ]
  },
  {
   "cell_type": "code",
   "execution_count": null,
   "metadata": {},
   "outputs": [],
   "source": [
    "#Tarea 3 Para este punto considere los clientes atendidos por cada cajero dividido el número de clientes\n",
    "#total\n",
    "def tarea3():\n",
    "    for i in range(qty_cajas):\n",
    "        print('Utilización de cada cajero', i+1, ':',round((clientes_atendidos_por_caja[i]/na)*100,2),'%')\n",
    "    "
   ]
  },
  {
   "cell_type": "code",
   "execution_count": null,
   "metadata": {},
   "outputs": [],
   "source": [
    "tarea1()"
   ]
  },
  {
   "cell_type": "code",
   "execution_count": null,
   "metadata": {},
   "outputs": [],
   "source": [
    "tarea2()"
   ]
  },
  {
   "cell_type": "code",
   "execution_count": null,
   "metadata": {},
   "outputs": [],
   "source": [
    "tarea3()"
   ]
  }
 ],
 "metadata": {
  "kernelspec": {
   "display_name": "Python 3.7.0 64-bit",
   "language": "python",
   "name": "python3"
  },
  "language_info": {
   "codemirror_mode": {
    "name": "ipython",
    "version": 3
   },
   "file_extension": ".py",
   "mimetype": "text/x-python",
   "name": "python",
   "nbconvert_exporter": "python",
   "pygments_lexer": "ipython3",
   "version": "3.7.0"
  },
  "orig_nbformat": 4,
  "vscode": {
   "interpreter": {
    "hash": "5109d816b82be14675a6b11f8e0f0d2e80f029176ed3710d54e125caa8520dfd"
   }
  }
 },
 "nbformat": 4,
 "nbformat_minor": 2
}
