{
 "cells": [
  {
   "cell_type": "markdown",
   "metadata": {},
   "source": [
    "Universidad del valle de Guatemala\n",
    "\n",
    "Lic. Ingenieria en ciencias de la computacion \n",
    "\n",
    "Modelacion y simulacion\n",
    "\n",
    "Luis Suriano\n",
    "\n",
    "Integrantes:\n",
    "- Mirka M\n",
    "- Oscar de leon\n",
    "- Andres Q 18288\n",
    "- Martha Gomez\n",
    "\n"
   ]
  },
  {
   "cell_type": "markdown",
   "metadata": {},
   "source": [
    "# Ejercicio Único\n",
    "\n",
    "Suponga que usted es gerente de un supermercado llamado “Flor de Septiembre”, y le interesa conocer ciertas variables referentes a las esperas dadas en caja de cobro. Para ello, aplica sus conocimientos del curso de Modelación y Simulación recordando lo que aprendió en la simulación de eventos discretos. Usted sabe que el supermercado del cual es gerente cuenta con N cajas, además que usted sabe que la cantidad de clientes que se atienden se pueden modelar con un proceso de Poisson con λ1 > 0 (cantidad promedio de clientes por hora).\n",
    "\n",
    "Al llegar, un cliente se forma en la fila en una caja, la cual suponga que la selecciona al buscar aquella que tenga el menor número de personas en fila y si en caso hay empate en la cantidad menor de personas en más de una caja, la cual en el cliente se forma será seleccionada aleatoriamente. Usted sabe que cada cajero despacha al cliente en un tiempo que tiene una distribución exponencial con parámetro λ2 > 0 clientes por hora.\n",
    "\n",
    "Por favor noten que los parámetros N, λ1, λ2 adrede no son dados en la especificación del proyecto para que cada grupo seleccione y muestre una simulación diferente. Por ello, se espera que cada grupo tenga una combinación diferente de estas variables.\n"
   ]
  },
  {
   "cell_type": "markdown",
   "metadata": {},
   "source": [
    "## Tasks:\n",
    "1. Calcule el tiempo promedio de un cliente en cola (tiempo de espera)\n",
    "2. Calcule el número de cliente en la cola\n",
    "3. Calcule el grado de utilización de cada cajero (Para este punto considere los clientes atendidos por cada cajero dividido el número de clientes\n",
    "total)\n",
    "4. Video presentando su simulación y solución"
   ]
  },
  {
   "cell_type": "markdown",
   "metadata": {},
   "source": [
    "Variables:\n",
    "- El supermercado tiene 8 cajas\n",
    "- Los clientes del supermercado llegan con una tasa de 45 clientes por hora. λ1 = 45 (Este es nuestro lamba para modelar la cola)\n",
    "- La caja puede procesar a los clientes con una tasa de 15 clientes por hora. MU = 15 (por hora)"
   ]
  },
  {
   "cell_type": "code",
   "execution_count": null,
   "metadata": {},
   "outputs": [],
   "source": [
    "cola_capacidad = 15\n",
    "clientes_hora = 45\n",
    "qty_cajas = 8"
   ]
  },
  {
   "cell_type": "markdown",
   "metadata": {},
   "source": [
    "En nuestra simulacion podemos procesar menos clientes que los que llegan, es decir abran muchas cajas con cola debido a la alta demanda"
   ]
  },
  {
   "cell_type": "code",
   "execution_count": null,
   "metadata": {},
   "outputs": [],
   "source": [
    "import math\n",
    "import numpy as np\n",
    "import random"
   ]
  },
  {
   "cell_type": "code",
   "execution_count": null,
   "metadata": {},
   "outputs": [],
   "source": [
    "''' \n",
    "Siguiendo la presentacion de simulando eventos discretos \n",
    "\n",
    "https://uvg.instructure.com/courses/27023/pages/simulando-eventos-discretos-material?module_item_id=591374\n",
    "'''\n",
    "def gen_random():\n",
    "    rand = random.random()\n",
    "    return rand\n",
    "# Funcion para generar tiempos de ocurrencia de eventos\n",
    "# Diapositiva 12\n",
    "def poisson(t, xLambda):\n",
    "    gen = gen_random()\n",
    "    return t - (1/xLambda) * math.log(gen)\n",
    "\n"
   ]
  },
  {
   "cell_type": "code",
   "execution_count": null,
   "metadata": {},
   "outputs": [],
   "source": [
    "''' \n",
    "Diapositiva 21, de la presentacion de simulando eventos discretos\n",
    "\n",
    "ta = tiempo de llegada del cliente\n",
    "td = tiempo de salida del cliente\n",
    "\n",
    "por que utilizamos un diccionario en lugar de lista?\n",
    "\n",
    "https://es.acervolima.com/diferencia-entre-lista-y-diccionario-en-python/\n",
    "\n",
    "tiempo_ocupado = una lista donde almacenamos los tiempos de ocupacion\n",
    "\n",
    "y para cada caja en la lista de cajas, tendremos un espacio en nuestra lista con su tiempo de ocupacion\n",
    "'''\n",
    "\n",
    "\n",
    "t = na = nd = n = 0\n",
    "T0 = poisson(t, clientes_hora)\n",
    "ta = T0\n",
    "tiempo_salida = {}\n",
    "td = math.inf # Infinito positivo\n",
    "\n",
    "tiempo_ocupado = []\n",
    "\n",
    "for i in range(qty_cajas):\n",
    "    tiempo_ocupado.append(0)\n",
    "    print(tiempo_ocupado)\n",
    "\n"
   ]
  },
  {
   "cell_type": "code",
   "execution_count": null,
   "metadata": {},
   "outputs": [],
   "source": [
    "'''\n",
    "\n",
    "    En este apartado lo que hacemos es crear dos diccionarios, uno para los clientes que llegan en n caja y otra para los clientes que estan siendo atendidos en n caja\n",
    "    para cada uno de estos dicccionarios, procedemos a llenarlos con 0 por cada caja que tengamos, utilizamos diccionarios para esto ya que nos permite acceder a \n",
    "    los valores especificos de cada caja de mejor manera.\n",
    "\n",
    "    ref: https://www.w3schools.com/python/python_dictionaries.asp\n",
    "    https://es.acervolima.com/diferencia-entre-lista-y-diccionario-en-python/\n",
    "\n",
    "'''\n",
    "\n",
    "clientes_en_N_caja = np.zeros(qty_cajas) #Creamos un array lleno de ceros como el numero de cajas\n",
    "\n",
    "clientes_atendidos_por_caja = np.zeros(qty_cajas) #creamos un array lleno de ceros para la cantidad de clientes servidos por caja"
   ]
  },
  {
   "cell_type": "code",
   "execution_count": null,
   "metadata": {},
   "outputs": [],
   "source": [
    "#Tiempo de completado de servicio\n",
    "tiempo_salida_completado = []\n",
    "\n",
    "for i in range(qty_cajas):\n",
    "    tiempo_salida_completado.append(math.inf) #llenamos el array con infinito por cada caja\n",
    "\n",
    "tiempo_cola = {} #Dicccionario para el tiempo de espera en cola por cliente\n",
    "\n",
    "#tiempo_cola = {0: [], 1: [], 2: [], 3: [], 4: [], 5: [], 6: [], 7: []} para 8 cajas\n",
    "for i in range(qty_cajas):\n",
    "    tiempo_cola[i] = {} #por cada caja creamos un diccionario vacio\n",
    "\n"
   ]
  }
 ],
 "metadata": {
  "kernelspec": {
   "display_name": "Python 3.7.0 64-bit",
   "language": "python",
   "name": "python3"
  },
  "language_info": {
   "codemirror_mode": {
    "name": "ipython",
    "version": 3
   },
   "file_extension": ".py",
   "mimetype": "text/x-python",
   "name": "python",
   "nbconvert_exporter": "python",
   "pygments_lexer": "ipython3",
   "version": "3.7.0"
  },
  "orig_nbformat": 4,
  "vscode": {
   "interpreter": {
    "hash": "5109d816b82be14675a6b11f8e0f0d2e80f029176ed3710d54e125caa8520dfd"
   }
  }
 },
 "nbformat": 4,
 "nbformat_minor": 2
}
