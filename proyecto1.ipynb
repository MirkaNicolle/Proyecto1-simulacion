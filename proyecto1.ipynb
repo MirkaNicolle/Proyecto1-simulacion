{
 "cells": [
  {
   "cell_type": "markdown",
   "metadata": {},
   "source": [
    "Universidad del valle de Guatemala\n",
    "\n",
    "Lic. Ingenieria en ciencias de la computacion \n",
    "\n",
    "Modelacion y simulacion\n",
    "\n",
    "Luis Suriano\n",
    "\n",
    "Integrantes:\n",
    "- Mirka M\n",
    "- Oscar de leon\n",
    "- Andres Q 18288\n",
    "- Martha Gomez\n",
    "\n"
   ]
  },
  {
   "cell_type": "markdown",
   "metadata": {},
   "source": [
    "# Ejercicio Único\n",
    "\n",
    "Suponga que usted es gerente de un supermercado llamado “Flor de Septiembre”, y le interesa conocer ciertas variables referentes a las esperas dadas en caja de cobro. Para ello, aplica sus conocimientos del curso de Modelación y Simulación recordando lo que aprendió en la simulación de eventos discretos. Usted sabe que el supermercado del cual es gerente cuenta con N cajas, además que usted sabe que la cantidad de clientes que se atienden se pueden modelar con un proceso de Poisson con λ1 > 0 (cantidad promedio de clientes por hora).\n",
    "\n",
    "Al llegar, un cliente se forma en la fila en una caja, la cual suponga que la selecciona al buscar aquella que tenga el menor número de personas en fila y si en caso hay empate en la cantidad menor de personas en más de una caja, la cual en el cliente se forma será seleccionada aleatoriamente. Usted sabe que cada cajero despacha al cliente en un tiempo que tiene una distribución exponencial con parámetro λ2 > 0 clientes por hora.\n",
    "\n",
    "Por favor noten que los parámetros N, λ1, λ2 adrede no son dados en la especificación del proyecto para que cada grupo seleccione y muestre una simulación diferente. Por ello, se espera que cada grupo tenga una combinación diferente de estas variables.\n"
   ]
  },
  {
   "cell_type": "markdown",
   "metadata": {},
   "source": [
    "## Tasks:\n",
    "1. Calcule el tiempo promedio de un cliente en cola (tiempo de espera)\n",
    "2. Calcule el número de cliente en la cola\n",
    "3. Calcule el grado de utilización de cada cajero (Para este punto considere los clientes atendidos por cada cajero dividido el número de clientes\n",
    "total)\n",
    "4. Video presentando su simulación y solución"
   ]
  },
  {
   "cell_type": "markdown",
   "metadata": {},
   "source": [
    "Variables:\n",
    "- El supermercado tiene 8 cajas\n",
    "- Los clientes del supermercado llegan con una tasa de 45 clientes por hora. λ1 = 45 (Este es nuestro lamba para modelar la cola)\n",
    "- La caja puede procesar a los clientes con una tasa de 15 clientes por hora. MU = 15 (por hora)"
   ]
  },
  {
   "cell_type": "code",
   "execution_count": null,
   "metadata": {},
   "outputs": [],
   "source": [
    "cola_capacidad = 15\n",
    "clientes_hora = 45\n",
    "qty_cajas = 8"
   ]
  },
  {
   "cell_type": "markdown",
   "metadata": {},
   "source": [
    "En nuestra simulacion podemos procesar menos clientes que los que llegan, es decir abran muchas cajas con cola debido a la alta demanda"
   ]
  },
  {
   "cell_type": "code",
   "execution_count": null,
   "metadata": {},
   "outputs": [],
   "source": [
    "import math\n",
    "import numpy as np\n",
    "import random"
   ]
  },
  {
   "cell_type": "code",
   "execution_count": null,
   "metadata": {},
   "outputs": [],
   "source": [
    "''' \n",
    "Siguiendo la presentacion de simulando eventos discretos \n",
    "\n",
    "https://uvg.instructure.com/courses/27023/pages/simulando-eventos-discretos-material?module_item_id=591374\n",
    "'''\n",
    "def gen_random():\n",
    "    rand = random.random()\n",
    "    return rand\n",
    "# Funcion para generar tiempos de ocurrencia de eventos\n",
    "# Diapositiva 12\n",
    "def poisson(t, xLambda):\n",
    "    gen = gen_random()\n",
    "    return t - (1/xLambda) * math.log(gen)\n",
    "\n"
   ]
  },
  {
   "cell_type": "markdown",
   "metadata": {},
   "source": [
    "Iniciamos la simulacion "
   ]
  }
 ],
 "metadata": {
  "kernelspec": {
   "display_name": "Python 3.7.0 64-bit",
   "language": "python",
   "name": "python3"
  },
  "language_info": {
   "codemirror_mode": {
    "name": "ipython",
    "version": 3
   },
   "file_extension": ".py",
   "mimetype": "text/x-python",
   "name": "python",
   "nbconvert_exporter": "python",
   "pygments_lexer": "ipython3",
   "version": "3.7.0"
  },
  "orig_nbformat": 4,
  "vscode": {
   "interpreter": {
    "hash": "5109d816b82be14675a6b11f8e0f0d2e80f029176ed3710d54e125caa8520dfd"
   }
  }
 },
 "nbformat": 4,
 "nbformat_minor": 2
}
